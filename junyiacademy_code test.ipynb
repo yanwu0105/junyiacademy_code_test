{
 "cells": [
  {
   "cell_type": "code",
   "execution_count": 1,
   "metadata": {},
   "outputs": [],
   "source": [
    "import pandas as pd\n",
    "import numpy as np"
   ]
  },
  {
   "cell_type": "markdown",
   "metadata": {},
   "source": [
    "### 1 \n",
    "(A.) 請寫⼀個程式把裡⾯的字串反過來。 (B.) 請寫⼀個程式把裡⾯的字串，每個單字本⾝做反轉，但是\n",
    "單字的順序不變。"
   ]
  },
  {
   "cell_type": "markdown",
   "metadata": {},
   "source": [
    "f(“junyiacademy”) == “ymedacaiynuj”\n",
    "\n",
    "f(“flipped class room is important”) == “deppilf ssalc moor si tnatropmi”"
   ]
  },
  {
   "cell_type": "markdown",
   "metadata": {},
   "source": [
    "### (A.)"
   ]
  },
  {
   "cell_type": "code",
   "execution_count": 5,
   "metadata": {},
   "outputs": [],
   "source": [
    "def f(i):\n",
    "    print(i[::-1])"
   ]
  },
  {
   "cell_type": "code",
   "execution_count": 6,
   "metadata": {},
   "outputs": [
    {
     "name": "stdout",
     "output_type": "stream",
     "text": [
      "ymedacaiynuj\n"
     ]
    }
   ],
   "source": [
    "f(\"junyiacademy\")"
   ]
  },
  {
   "cell_type": "markdown",
   "metadata": {},
   "source": [
    "### (B.)"
   ]
  },
  {
   "cell_type": "code",
   "execution_count": 18,
   "metadata": {},
   "outputs": [],
   "source": [
    "def f(i):\n",
    "    box = i.split(\" \")\n",
    "    a =\"\"\n",
    "    for l in (box):\n",
    "        a = a + l[::-1] + \" \"\n",
    "    print(a)"
   ]
  },
  {
   "cell_type": "code",
   "execution_count": 19,
   "metadata": {},
   "outputs": [
    {
     "name": "stdout",
     "output_type": "stream",
     "text": [
      "deppilf ssalc moor si tnatropmi \n"
     ]
    }
   ],
   "source": [
    "f(\"flipped class room is important\")"
   ]
  },
  {
   "cell_type": "code",
   "execution_count": null,
   "metadata": {},
   "outputs": [],
   "source": []
  },
  {
   "cell_type": "markdown",
   "metadata": {},
   "source": [
    "### 2. \n",
    "請寫⼀個程式，Input 是⼀個數字，Output 是從 1 到這個數字，扣除掉所有 3 的倍數以及 5 的倍數，但是\n",
    "需要保留同時是 3 和 5 的倍數的總數字數。"
   ]
  },
  {
   "cell_type": "code",
   "execution_count": 25,
   "metadata": {},
   "outputs": [],
   "source": [
    "def t_f():\n",
    "    i = input(\"請輸入一個數字： \")\n",
    "    i = int(i)\n",
    "    box = []\n",
    "    for l in range(1,i+1):\n",
    "        if (l%3 != 0) and (l%5 != 0):\n",
    "            box.append(l)\n",
    "        elif (l%3 == 0) and (l%5 == 0):\n",
    "            box.append(l)\n",
    "        else:\n",
    "            pass\n",
    "    print(\"output:\",len(box))"
   ]
  },
  {
   "cell_type": "code",
   "execution_count": null,
   "metadata": {},
   "outputs": [],
   "source": []
  },
  {
   "cell_type": "markdown",
   "metadata": {},
   "source": [
    "### 3."
   ]
  },
  {
   "cell_type": "markdown",
   "metadata": {},
   "source": [
    "房間裡有三個袋⼦，⼀個只裝鉛筆，⼀個只裝原⼦筆，第三個有鉛筆也有原⼦筆，袋⼦是不透明的，\n",
    "\n",
    "單從袋⼦的外表上看不出任何差異，你不知道哪⼀個袋⼦裝了什麼。\n",
    "\n",
    "除了袋⼦上各貼了⼀個標⽰(\"鉛筆\"、\"原⼦筆\"、\"混和\")，⽽且標⽰都是錯的(ex. 標有鉛筆的袋⼦⼀定不是只裝鉛筆)。\n",
    "\n",
    "你只能選⼀個袋⼦，然後拿出裡⾯⼀⽀筆看是鉛筆還是原⼦筆，然後你要推論出這三個袋⼦分別的情況。\n",
    "\n",
    "請列出您的作法，以及解釋為什麼這樣可以找到答案。"
   ]
  },
  {
   "cell_type": "markdown",
   "metadata": {},
   "source": [
    "### ANS"
   ]
  },
  {
   "cell_type": "markdown",
   "metadata": {},
   "source": [
    "一題目來講，標示”混合“的袋子，裡頭一定不是鉛筆和原子筆，一定只存在一個物品(鉛筆or原子筆)\n",
    "\n",
    "故，只要先打開標示“鉛筆”的袋子，先看裡頭裝的是原子筆or裝兩支筆\n",
    "\n",
    "假設，標示“鉛筆”的袋子，裡頭是原子筆；標示“混合”的袋子，一定是鉛筆；“原子筆”的袋子一定是兩支筆。\n",
    "\n",
    "另外，標示“鉛筆”的袋子，裡頭是兩隻筆；標示“混合”的袋子，一定是原子筆；“原子筆”的袋子一定是鉛筆。\n",
    "\n",
    "若先打開“原子筆”的袋子，反之亦然。\n",
    "\n",
    "排列組合狀況如下：\n",
    "\n",
    "狀況一：\n",
    "\n",
    "標示     內容物\n",
    "\n",
    "”鉛筆“ > 原子筆 \n",
    "\n",
    "“混合” > 鉛筆\n",
    "\n",
    "“原子筆” > 混合\n",
    "\n",
    "\n",
    "狀況二：\n",
    "\n",
    "標示     內容物\n",
    "\n",
    "”鉛筆“ > 混合 \n",
    "\n",
    "“混合” > 原子筆\n",
    "\n",
    "“原子筆” > 鉛筆"
   ]
  },
  {
   "cell_type": "code",
   "execution_count": null,
   "metadata": {},
   "outputs": [],
   "source": []
  },
  {
   "cell_type": "markdown",
   "metadata": {},
   "source": [
    "### 4"
   ]
  },
  {
   "cell_type": "markdown",
   "metadata": {},
   "source": [
    "有三個⼈⼀起到迪⼠尼遊玩，中午肚⼦餓了，去餐廳點了⼀份現在最夯的冰雪奇緣雙⼈組，要價 900 元，\n",
    "\n",
    "付錢後，服務⽣發現今天套餐⼤特價，只要 750 元，因此服務⽣應該退還 150 元給這三個⼈，'\n",
    "\n",
    "但是這位服務⽣⼀時⿁迷⼼翹，決定按扛 60 元，只退了 90 元給這三個遊客。\n",
    "\n",
    "那麼： 三⼈各出 300 元 - 服務⽣還給他們⼀⼈ 30 元 = 三⼈各出 270 元 \n",
    "\n",
    "270元 × 3⼈ + 服務⽣私吞的 60 元 = 810 + 60 = 870 !? \n",
    "\n",
    "怎麼不是 900 元呢？還有 30元去哪了呢？ 請⽤敘述的⽅式，儘量清楚解釋問題出在哪裡。"
   ]
  },
  {
   "cell_type": "markdown",
   "metadata": {},
   "source": [
    "### ANS"
   ]
  },
  {
   "cell_type": "markdown",
   "metadata": {},
   "source": [
    "當 270 * 3 時，已經是扣掉要退還給3個遊客的90元\n",
    "\n",
    "故 810 - 60 的這60元才是服務生按扛得到的\n",
    "\n",
    "810 + 30*3 = 900 才會是原本的定價"
   ]
  }
 ],
 "metadata": {
  "kernelspec": {
   "display_name": "Python 3",
   "language": "python",
   "name": "python3"
  },
  "language_info": {
   "codemirror_mode": {
    "name": "ipython",
    "version": 3
   },
   "file_extension": ".py",
   "mimetype": "text/x-python",
   "name": "python",
   "nbconvert_exporter": "python",
   "pygments_lexer": "ipython3",
   "version": "3.6.8"
  }
 },
 "nbformat": 4,
 "nbformat_minor": 2
}
